{
 "cells": [
  {
   "cell_type": "code",
   "execution_count": 2,
   "metadata": {},
   "outputs": [
    {
     "name": "stderr",
     "output_type": "stream",
     "text": [
      "[nltk_data] Downloading package punkt_tab to\n",
      "[nltk_data]     C:\\Users\\srira\\AppData\\Roaming\\nltk_data...\n",
      "[nltk_data]   Package punkt_tab is already up-to-date!\n",
      "[nltk_data] Downloading package stopwords to\n",
      "[nltk_data]     C:\\Users\\srira\\AppData\\Roaming\\nltk_data...\n",
      "[nltk_data]   Package stopwords is already up-to-date!\n",
      "[nltk_data] Downloading package wordnet to\n",
      "[nltk_data]     C:\\Users\\srira\\AppData\\Roaming\\nltk_data...\n",
      "[nltk_data]   Package wordnet is already up-to-date!\n"
     ]
    },
    {
     "data": {
      "text/plain": [
       "True"
      ]
     },
     "execution_count": 2,
     "metadata": {},
     "output_type": "execute_result"
    }
   ],
   "source": [
    "import pandas as pd\n",
    "import numpy as np\n",
    "import nltk\n",
    "import re\n",
    "\n",
    "\n",
    "from nltk.stem import PorterStemmer\n",
    "from nltk.tokenize import word_tokenize\n",
    "from nltk.tokenize import sent_tokenize\n",
    "from nltk.stem import WordNetLemmatizer\n",
    "\n",
    "from nltk.corpus import stopwords\n",
    "nltk.download('punkt_tab')\n",
    "nltk.download('stopwords')\n",
    "nltk.download('wordnet')"
   ]
  },
  {
   "cell_type": "code",
   "execution_count": 4,
   "metadata": {},
   "outputs": [],
   "source": [
    "twitter=pd.read_csv(\"twitter.csv\")\n",
    "twitter.head()\n",
    "\n",
    "twitter=twitter[[\"tweet\",\"label\"]]"
   ]
  },
  {
   "cell_type": "code",
   "execution_count": 5,
   "metadata": {},
   "outputs": [
    {
     "data": {
      "text/plain": [
       "label\n",
       "0    59440\n",
       "1     4484\n",
       "Name: count, dtype: int64"
      ]
     },
     "execution_count": 5,
     "metadata": {},
     "output_type": "execute_result"
    }
   ],
   "source": [
    "twitter[\"label\"].value_counts()"
   ]
  },
  {
   "cell_type": "code",
   "execution_count": 6,
   "metadata": {},
   "outputs": [
    {
     "data": {
      "text/html": [
       "<div>\n",
       "<style scoped>\n",
       "    .dataframe tbody tr th:only-of-type {\n",
       "        vertical-align: middle;\n",
       "    }\n",
       "\n",
       "    .dataframe tbody tr th {\n",
       "        vertical-align: top;\n",
       "    }\n",
       "\n",
       "    .dataframe thead th {\n",
       "        text-align: right;\n",
       "    }\n",
       "</style>\n",
       "<table border=\"1\" class=\"dataframe\">\n",
       "  <thead>\n",
       "    <tr style=\"text-align: right;\">\n",
       "      <th></th>\n",
       "      <th>tweet</th>\n",
       "      <th>label</th>\n",
       "    </tr>\n",
       "  </thead>\n",
       "  <tbody>\n",
       "    <tr>\n",
       "      <th>0</th>\n",
       "      <td>user father dysfunctional selfish drag kid dys...</td>\n",
       "      <td>0</td>\n",
       "    </tr>\n",
       "    <tr>\n",
       "      <th>1</th>\n",
       "      <td>user user thanks lyft credit use cause offer w...</td>\n",
       "      <td>0</td>\n",
       "    </tr>\n",
       "    <tr>\n",
       "      <th>2</th>\n",
       "      <td>bihday majesty</td>\n",
       "      <td>0</td>\n",
       "    </tr>\n",
       "    <tr>\n",
       "      <th>3</th>\n",
       "      <td>model love u take u time ur</td>\n",
       "      <td>0</td>\n",
       "    </tr>\n",
       "    <tr>\n",
       "      <th>4</th>\n",
       "      <td>factsguide society motivation</td>\n",
       "      <td>0</td>\n",
       "    </tr>\n",
       "  </tbody>\n",
       "</table>\n",
       "</div>"
      ],
      "text/plain": [
       "                                               tweet  label\n",
       "0  user father dysfunctional selfish drag kid dys...      0\n",
       "1  user user thanks lyft credit use cause offer w...      0\n",
       "2                                     bihday majesty      0\n",
       "3                        model love u take u time ur      0\n",
       "4                      factsguide society motivation      0"
      ]
     },
     "execution_count": 6,
     "metadata": {},
     "output_type": "execute_result"
    }
   ],
   "source": [
    "lemma=WordNetLemmatizer()\n",
    "stop_words=set(stopwords.words(\"english\"))\n",
    "\n",
    "def clean_text(text):\n",
    "  text=text.lower()\n",
    "  text=re.sub(r\"[^a-zA-Z0-9]\",\" \",text)\n",
    "  words=nltk.word_tokenize(text) \n",
    "  return \" \".join([lemma.lemmatize(word) for word in words if word not in stop_words])\n",
    "\n",
    "\n",
    "\n",
    "twitter[\"tweet\"]=twitter[\"tweet\"].apply(lambda x:clean_text(x))\n",
    "twitter.head()\n",
    "\n",
    "\n"
   ]
  },
  {
   "cell_type": "markdown",
   "metadata": {},
   "source": [
    "##word to vectors\n",
    "\n",
    "\n",
    "-tokenization\n",
    "-remove stopwords ,punctuation marks,specialcharecters\n",
    "-stemming,lemmatization\n",
    "\n",
    "techniques:\n",
    "-bow(countVectorizer)\n",
    "-tfidf\n",
    "-word2vec"
   ]
  },
  {
   "cell_type": "code",
   "execution_count": 9,
   "metadata": {},
   "outputs": [],
   "source": [
    "\n",
    "from sklearn.model_selection import train_test_split\n",
    "from sklearn.feature_extraction.text import CountVectorizer\n",
    "from sklearn.feature_extraction.text import TfidfVectorizer\n",
    "from sklearn.model_selection import train_test_split\n",
    "from sklearn.metrics import accuracy_score,r2_score,confusion_matrix,classification_report\n",
    "\n",
    "\n",
    "\n",
    "from sklearn.naive_bayes import MultinomialNB\n",
    "from sklearn.linear_model import LogisticRegression\n",
    "from sklearn.svm import SVC\n",
    "from sklearn.tree import DecisionTreeClassifier\n",
    "from sklearn.ensemble import RandomForestClassifier\n",
    "from sklearn.neighbors import KNeighborsClassifier"
   ]
  },
  {
   "cell_type": "code",
   "execution_count": 10,
   "metadata": {},
   "outputs": [
    {
     "name": "stdout",
     "output_type": "stream",
     "text": [
      "(44746,)\n",
      "(19178,)\n"
     ]
    }
   ],
   "source": [
    "x_train,x_test,y_train,y_test=train_test_split(twitter[\"tweet\"],twitter[\"label\"],test_size=0.3,random_state=42)\n",
    "print(x_train.shape)\n",
    "print(x_test.shape)"
   ]
  },
  {
   "cell_type": "code",
   "execution_count": 11,
   "metadata": {},
   "outputs": [],
   "source": [
    "def training(x_train_vector,x_test_vector,y_train,y_test):\n",
    "\n",
    "  models={\"naivebayes\":MultinomialNB(),\n",
    "        \"logisticregression\":LogisticRegression(),\n",
    "        \"decisiontree\":DecisionTreeClassifier(),\n",
    "        \"randomforest\":RandomForestClassifier(),\n",
    "        \"knn\":KNeighborsClassifier()\n",
    "        }\n",
    "\n",
    "  for name,model in models.items():\n",
    "     \n",
    "    model.fit(x_train_vector,y_train)\n",
    "    y_test_pred = model.predict(x_test_vector)\n",
    "    test_model_score = r2_score(y_test, y_test_pred)\n",
    "\n",
    "    print(name+\":\")\n",
    "    print(\"r2 score:\",test_model_score)\n",
    "    print(confusion_matrix(y_test,y_test_pred))\n",
    "    print(classification_report(y_test,y_test_pred))\n",
    "    print(\"-----------------------------------------------\\n\\n\")"
   ]
  },
  {
   "cell_type": "code",
   "execution_count": 12,
   "metadata": {},
   "outputs": [
    {
     "name": "stdout",
     "output_type": "stream",
     "text": [
      "vectorizer countVectorizer :::\n",
      "naivebayes:\n",
      "r2 score: 0.0070619012995203345\n",
      "[[17288   519]\n",
      " [  745   626]]\n",
      "              precision    recall  f1-score   support\n",
      "\n",
      "           0       0.96      0.97      0.96     17807\n",
      "           1       0.55      0.46      0.50      1371\n",
      "\n",
      "    accuracy                           0.93     19178\n",
      "   macro avg       0.75      0.71      0.73     19178\n",
      "weighted avg       0.93      0.93      0.93     19178\n",
      "\n",
      "-----------------------------------------------\n",
      "\n",
      "\n",
      "logisticregression:\n",
      "r2 score: 0.19402334709913605\n",
      "[[17694   113]\n",
      " [  913   458]]\n",
      "              precision    recall  f1-score   support\n",
      "\n",
      "           0       0.95      0.99      0.97     17807\n",
      "           1       0.80      0.33      0.47      1371\n",
      "\n",
      "    accuracy                           0.95     19178\n",
      "   macro avg       0.88      0.66      0.72     19178\n",
      "weighted avg       0.94      0.95      0.94     19178\n",
      "\n",
      "-----------------------------------------------\n",
      "\n",
      "\n",
      "decisiontree:\n",
      "r2 score: 0.4477567378271857\n",
      "[[17509   298]\n",
      " [  405   966]]\n",
      "              precision    recall  f1-score   support\n",
      "\n",
      "           0       0.98      0.98      0.98     17807\n",
      "           1       0.76      0.70      0.73      1371\n",
      "\n",
      "    accuracy                           0.96     19178\n",
      "   macro avg       0.87      0.84      0.86     19178\n",
      "weighted avg       0.96      0.96      0.96     19178\n",
      "\n",
      "-----------------------------------------------\n",
      "\n",
      "\n",
      "randomforest:\n",
      "r2 score: 0.5475218790731992\n",
      "[[17628   179]\n",
      " [  397   974]]\n",
      "              precision    recall  f1-score   support\n",
      "\n",
      "           0       0.98      0.99      0.98     17807\n",
      "           1       0.84      0.71      0.77      1371\n",
      "\n",
      "    accuracy                           0.97     19178\n",
      "   macro avg       0.91      0.85      0.88     19178\n",
      "weighted avg       0.97      0.97      0.97     19178\n",
      "\n",
      "-----------------------------------------------\n",
      "\n",
      "\n",
      "knn:\n",
      "r2 score: 0.17045677830086514\n",
      "[[17598   209]\n",
      " [  847   524]]\n",
      "              precision    recall  f1-score   support\n",
      "\n",
      "           0       0.95      0.99      0.97     17807\n",
      "           1       0.71      0.38      0.50      1371\n",
      "\n",
      "    accuracy                           0.94     19178\n",
      "   macro avg       0.83      0.69      0.73     19178\n",
      "weighted avg       0.94      0.94      0.94     19178\n",
      "\n",
      "-----------------------------------------------\n",
      "\n",
      "\n",
      "vectorizer tfidf :::\n",
      "naivebayes:\n",
      "r2 score: -0.06285225280201656\n",
      "[[17758    49]\n",
      " [ 1304    67]]\n",
      "              precision    recall  f1-score   support\n",
      "\n",
      "           0       0.93      1.00      0.96     17807\n",
      "           1       0.58      0.05      0.09      1371\n",
      "\n",
      "    accuracy                           0.93     19178\n",
      "   macro avg       0.75      0.52      0.53     19178\n",
      "weighted avg       0.91      0.93      0.90     19178\n",
      "\n",
      "-----------------------------------------------\n",
      "\n",
      "\n",
      "logisticregression:\n",
      "r2 score: -0.06363780509529238\n",
      "[[17755    52]\n",
      " [ 1302    69]]\n",
      "              precision    recall  f1-score   support\n",
      "\n",
      "           0       0.93      1.00      0.96     17807\n",
      "           1       0.57      0.05      0.09      1371\n",
      "\n",
      "    accuracy                           0.93     19178\n",
      "   macro avg       0.75      0.52      0.53     19178\n",
      "weighted avg       0.91      0.93      0.90     19178\n",
      "\n",
      "-----------------------------------------------\n",
      "\n",
      "\n",
      "decisiontree:\n",
      "r2 score: 0.04948172513640792\n",
      "[[17676   131]\n",
      " [ 1079   292]]\n",
      "              precision    recall  f1-score   support\n",
      "\n",
      "           0       0.94      0.99      0.97     17807\n",
      "           1       0.69      0.21      0.33      1371\n",
      "\n",
      "    accuracy                           0.94     19178\n",
      "   macro avg       0.82      0.60      0.65     19178\n",
      "weighted avg       0.92      0.94      0.92     19178\n",
      "\n",
      "-----------------------------------------------\n",
      "\n",
      "\n",
      "randomforest:\n",
      "r2 score: 0.08404602604053857\n",
      "[[17721    86]\n",
      " [ 1080   291]]\n",
      "              precision    recall  f1-score   support\n",
      "\n",
      "           0       0.94      1.00      0.97     17807\n",
      "           1       0.77      0.21      0.33      1371\n",
      "\n",
      "    accuracy                           0.94     19178\n",
      "   macro avg       0.86      0.60      0.65     19178\n",
      "weighted avg       0.93      0.94      0.92     19178\n",
      "\n",
      "-----------------------------------------------\n",
      "\n",
      "\n",
      "knn:\n",
      "r2 score: -0.08798992618683887\n",
      "[[17572   235]\n",
      " [ 1150   221]]\n",
      "              precision    recall  f1-score   support\n",
      "\n",
      "           0       0.94      0.99      0.96     17807\n",
      "           1       0.48      0.16      0.24      1371\n",
      "\n",
      "    accuracy                           0.93     19178\n",
      "   macro avg       0.71      0.57      0.60     19178\n",
      "weighted avg       0.91      0.93      0.91     19178\n",
      "\n",
      "-----------------------------------------------\n",
      "\n",
      "\n"
     ]
    }
   ],
   "source": [
    "convert_vectors={\"countVectorizer\":CountVectorizer(max_features=500, binary=False ),\"tfidf\":TfidfVectorizer(max_features=100,ngram_range=(1,3))}\n",
    "\n",
    "\n",
    "\n",
    "for name,vector in convert_vectors.items():\n",
    "  print(\"vectorizer\",name,\":::\")\n",
    "  vectorizer=vector\n",
    "  x_train_vector=vectorizer.fit_transform(x_train).toarray()\n",
    "  x_test_vector=vectorizer.transform(x_test).toarray()\n",
    "  training(x_train_vector,x_test_vector,y_train,y_test)"
   ]
  },
  {
   "cell_type": "code",
   "execution_count": null,
   "metadata": {},
   "outputs": [],
   "source": [
    "!pip install lightgbm"
   ]
  },
  {
   "cell_type": "code",
   "execution_count": 16,
   "metadata": {},
   "outputs": [],
   "source": [
    "\n",
    "import lightgbm as lgb\n",
    "\n",
    "vectorizer=TfidfVectorizer(max_features=700, ngram_range=(1,3) )\n",
    "\n",
    "train_data = lgb.Dataset(vectorizer.fit_transform(x_train).toarray(), label=y_train)\n",
    "test_data = lgb.Dataset(vectorizer.transform(x_test).toarray(), label=y_test, reference=train_data)"
   ]
  },
  {
   "cell_type": "code",
   "execution_count": 22,
   "metadata": {},
   "outputs": [
    {
     "name": "stdout",
     "output_type": "stream",
     "text": [
      "[LightGBM] [Info] Number of positive: 3113, number of negative: 41633\n",
      "[LightGBM] [Info] Auto-choosing col-wise multi-threading, the overhead of testing was 0.059880 seconds.\n",
      "You can set `force_col_wise=true` to remove the overhead.\n",
      "[LightGBM] [Info] Total Bins 42875\n",
      "[LightGBM] [Info] Number of data points in the train set: 44746, number of used features: 700\n",
      "[LightGBM] [Info] [binary:BoostFromScore]: pavg=0.069570 -> initscore=-2.593306\n",
      "[LightGBM] [Info] Start training from score -2.593306\n"
     ]
    }
   ],
   "source": [
    "\n",
    "params = {\n",
    "    'objective': 'binary',\n",
    "    'metric': 'binary_logloss',\n",
    "    'boosting_type': 'gbdt',\n",
    "    'num_leaves': 31,\n",
    "    'learning_rate': 0.05,\n",
    "    'feature_fraction': 0.8\n",
    "}\n",
    "\n",
    "model = lgb.train(\n",
    "    params,\n",
    "    train_data,\n",
    "    valid_sets=[train_data, test_data],\n",
    "    num_boost_round=1000,\n",
    ")\n",
    "y_pred = model.predict(vectorizer.transform(x_test).toarray())\n",
    "\n",
    "y_pred=[1 if i>0.5 else 0 for i in y_pred]\n"
   ]
  },
  {
   "cell_type": "code",
   "execution_count": 23,
   "metadata": {},
   "outputs": [
    {
     "name": "stdout",
     "output_type": "stream",
     "text": [
      "r2 score: 0.4681810974523538\n",
      "[[17706   101]\n",
      " [  576   795]]\n",
      "              precision    recall  f1-score   support\n",
      "\n",
      "           0       0.97      0.99      0.98     17807\n",
      "           1       0.89      0.58      0.70      1371\n",
      "\n",
      "    accuracy                           0.96     19178\n",
      "   macro avg       0.93      0.79      0.84     19178\n",
      "weighted avg       0.96      0.96      0.96     19178\n",
      "\n",
      "-----------------------------------------------\n",
      "\n",
      "\n"
     ]
    }
   ],
   "source": [
    "test_model_score = r2_score(y_test, y_pred)\n",
    "\n",
    "print(\"r2 score:\",test_model_score)\n",
    "print(confusion_matrix(y_test,y_pred))\n",
    "print(classification_report(y_test,y_pred))\n",
    "print(\"-----------------------------------------------\\n\\n\")"
   ]
  },
  {
   "cell_type": "code",
   "execution_count": 25,
   "metadata": {},
   "outputs": [],
   "source": [
    "import pickle\n",
    "import joblib\n",
    "pickle.dump(vectorizer,open(\"vectorizer.pkl\",\"wb\"))\n"
   ]
  },
  {
   "cell_type": "code",
   "execution_count": 26,
   "metadata": {},
   "outputs": [],
   "source": [
    "model.save_model(\"lightgbm.txt\")\n",
    "lightgbm_model=lgb.Booster(model_file=\"lightgbm.txt\")\n",
    "\n",
    "\n",
    "pickle.dump(lightgbm_model,open(\"light_gbm_model.pkl\",\"wb\"))\n"
   ]
  },
  {
   "cell_type": "code",
   "execution_count": 28,
   "metadata": {},
   "outputs": [],
   "source": [
    "#testing pkl files\n",
    "\n",
    "\n",
    "vectormodel=pickle.load(open(\"vectorizer.pkl\",\"rb\"))\n",
    "\n",
    "gblmodel=pickle.load(open(\"light_gbm_model.pkl\",\"rb\"))\n"
   ]
  },
  {
   "cell_type": "code",
   "execution_count": 30,
   "metadata": {},
   "outputs": [
    {
     "name": "stdout",
     "output_type": "stream",
     "text": [
      "[[17706   101]\n",
      " [  576   795]]\n",
      "              precision    recall  f1-score   support\n",
      "\n",
      "           0       0.97      0.99      0.98     17807\n",
      "           1       0.89      0.58      0.70      1371\n",
      "\n",
      "    accuracy                           0.96     19178\n",
      "   macro avg       0.93      0.79      0.84     19178\n",
      "weighted avg       0.96      0.96      0.96     19178\n",
      "\n",
      "-----------------------------------------------\n",
      "\n",
      "\n"
     ]
    }
   ],
   "source": [
    "\n",
    "\n",
    "ypred=gblmodel.predict(vectormodel.transform(x_test).toarray())\n",
    "\n",
    "ypred=[1 if i>0.5 else 0 for i in y_pred]\n",
    "test_model_score = r2_score(y_test, ypred)\n",
    "\n",
    "print(confusion_matrix(y_test,ypred))\n",
    "print(classification_report(y_test,ypred))\n",
    "print(\"-----------------------------------------------\\n\\n\")"
   ]
  }
 ],
 "metadata": {
  "kernelspec": {
   "display_name": "base",
   "language": "python",
   "name": "python3"
  },
  "language_info": {
   "codemirror_mode": {
    "name": "ipython",
    "version": 3
   },
   "file_extension": ".py",
   "mimetype": "text/x-python",
   "name": "python",
   "nbconvert_exporter": "python",
   "pygments_lexer": "ipython3",
   "version": "3.12.7"
  }
 },
 "nbformat": 4,
 "nbformat_minor": 2
}
